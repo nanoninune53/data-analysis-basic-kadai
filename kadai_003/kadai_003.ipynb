{
 "cells": [
  {
   "cell_type": "code",
   "execution_count": 10,
   "id": "eac10252-175f-42ed-a3db-733f5cf861fd",
   "metadata": {},
   "outputs": [
    {
     "name": "stdout",
     "output_type": "stream",
     "text": [
      "[[ 4  5  6  7]\n",
      " [12 17 22 27]\n",
      " [20 29 38 47]]\n",
      "47\n"
     ]
    }
   ],
   "source": [
    "import numpy as np\n",
    "\n",
    "A = np.array([[0,1],[2,3],[4,5]])\n",
    "B = np.array([[0,1,2,3], [4,5,6,7]])\n",
    "\n",
    "mul =np.dot(A , B)\n",
    "print(mul)\n",
    "print(mul.max())"
   ]
  }
 ],
 "metadata": {
  "kernelspec": {
   "display_name": "Python 3 (ipykernel)",
   "language": "python",
   "name": "python3"
  },
  "language_info": {
   "codemirror_mode": {
    "name": "ipython",
    "version": 3
   },
   "file_extension": ".py",
   "mimetype": "text/x-python",
   "name": "python",
   "nbconvert_exporter": "python",
   "pygments_lexer": "ipython3",
   "version": "3.12.6"
  }
 },
 "nbformat": 4,
 "nbformat_minor": 5
}
